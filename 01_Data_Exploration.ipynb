{
 "cells": [
  {
   "cell_type": "markdown",
   "metadata": {},
   "source": [
    "# Indian Road Traffic Accident Data Analysis\n",
    "\n",
    "This notebook provides exploratory data analysis of Indian road traffic accident patterns based on official MORTH data and real-time weather information."
   ]
  },
  {
   "cell_type": "code",
   "execution_count": null,
   "metadata": {},
   "outputs": [],
   "source": [
    "# Import required libraries\n",
    "import pandas as pd\n",
    "import numpy as np\n",
    "import matplotlib.pyplot as plt\n",
    "import seaborn as sns\n",
    "from datetime import datetime, timedelta\n",
    "import warnings\n",
    "warnings.filterwarnings('ignore')\n",
    "\n",
    "# Set plotting style\n",
    "plt.style.use('seaborn')\n",
    "sns.set_palette('viridis')\n",
    "\n",
    "print('Libraries imported successfully!')"
   ]
  },
  {
   "cell_type": "code",
   "execution_count": null,
   "metadata": {},
   "outputs": [],
   "source": [
    "# Load data collection modules\n",
    "import sys\n",
    "sys.path.append('../src')\n",
    "\n",
    "from data_collection.accident_processor import AccidentDataProcessor\n",
    "from data_collection.weather_collector import WeatherDataCollector\n",
    "\n",
    "print('Modules loaded successfully!')"
   ]
  },
  {
   "cell_type": "markdown",
   "metadata": {},
   "source": [
    "## 1. Data Generation and Loading"
   ]
  },
  {
   "cell_type": "code",
   "execution_count": null,
   "metadata": {},
   "outputs": [],
   "source": [
    "# Initialize data processor\n",
    "processor = AccidentDataProcessor()\n",
    "\n",
    "# Generate synthetic accident data\n",
    "print('Generating synthetic accident data...')\n",
    "accident_df = processor.generate_synthetic_accident_data(5000)\n",
    "\n",
    "print(f'Generated {len(accident_df)} accident records')\n",
    "print(f'Data shape: {accident_df.shape}')\n",
    "accident_df.head()"
   ]
  },
  {
   "cell_type": "markdown",
   "metadata": {},
   "source": [
    "## 2. Basic Data Statistics"
   ]
  },
  {
   "cell_type": "code",
   "execution_count": null,
   "metadata": {},
   "outputs": [],
   "source": [
    "# Generate statistics\n",
    "stats = processor.get_accident_statistics(accident_df)\n",
    "\n",
    "print('=== ACCIDENT STATISTICS SUMMARY ===')\n",
    "print(f'Total Accidents: {stats[\"total_accidents\"]:,}')\n",
    "print(f'Total Deaths: {stats[\"total_deaths\"]:,}')\n",
    "print(f'Total Injuries: {stats[\"total_injuries\"]:,}')\n",
    "print(f'Fatality Rate: {stats[\"fatality_rate\"]:.2f}%')"
   ]
  },
  {
   "cell_type": "markdown",
   "metadata": {},
   "source": [
    "## 3. Visualizations"
   ]
  },
  {
   "cell_type": "code",
   "execution_count": null,
   "metadata": {},
   "outputs": [],
   "source": [
    "# Create visualizations\n",
    "fig, axes = plt.subplots(2, 2, figsize=(15, 12))\n",
    "\n",
    "# 1. Accidents by state\n",
    "state_counts = pd.Series(stats['accident_by_state']).head(10)\n",
    "state_counts.plot(kind='bar', ax=axes[0,0], color='skyblue')\n",
    "axes[0,0].set_title('Top 10 States by Accident Count')\n",
    "axes[0,0].set_xlabel('State')\n",
    "axes[0,0].set_ylabel('Number of Accidents')\n",
    "axes[0,0].tick_params(axis='x', rotation=45)\n",
    "\n",
    "# 2. Accidents by severity\n",
    "severity_counts = pd.Series(stats['accident_by_severity'])\n",
    "axes[0,1].pie(severity_counts.values, labels=severity_counts.index, autopct='%1.1f%%')\n",
    "axes[0,1].set_title('Accidents by Severity')\n",
    "\n",
    "# 3. Hourly distribution\n",
    "hourly_counts = pd.Series(stats['accident_by_hour'])\n",
    "hourly_counts.plot(kind='line', ax=axes[1,0], marker='o', color='red')\n",
    "axes[1,0].set_title('Accidents by Hour of Day')\n",
    "axes[1,0].set_xlabel('Hour')\n",
    "axes[1,0].set_ylabel('Number of Accidents')\n",
    "axes[1,0].grid(True)\n",
    "\n",
    "# 4. Monthly distribution\n",
    "monthly_counts = pd.Series(stats['accident_by_month'])\n",
    "monthly_counts.plot(kind='bar', ax=axes[1,1], color='green')\n",
    "axes[1,1].set_title('Accidents by Month')\n",
    "axes[1,1].set_xlabel('Month')\n",
    "axes[1,1].set_ylabel('Number of Accidents')\n",
    "\n",
    "plt.tight_layout()\n",
    "plt.show()"
   ]
  },
  {
   "cell_type": "markdown",
   "metadata": {},
   "source": [
    "## 4. Weather Impact Analysis"
   ]
  },
  {
   "cell_type": "code",
   "execution_count": null,
   "metadata": {},
   "outputs": [],
   "source": [
    "# Weather impact visualization\n",
    "weather_impact = pd.Series(stats['weather_impact'])\n",
    "\n",
    "plt.figure(figsize=(10, 6))\n",
    "weather_impact.plot(kind='bar', color=['lightblue', 'orange', 'gray', 'red'])\n",
    "plt.title('Average Casualties by Weather Condition')\n",
    "plt.xlabel('Weather Condition')\n",
    "plt.ylabel('Average Casualties per Accident')\n",
    "plt.xticks(rotation=45)\n",
    "plt.grid(axis='y', alpha=0.3)\n",
    "plt.tight_layout()\n",
    "plt.show()\n",
    "\n",
    "print('Weather Impact Summary:')\n",
    "for weather, avg_casualties in weather_impact.items():\n",
    "    print(f'{weather}: {avg_casualties:.2f} average casualties per accident')"
   ]
  },
  {
   "cell_type": "markdown",
   "metadata": {},
   "source": [
    "## 5. Time Pattern Analysis"
   ]
  },
  {
   "cell_type": "code",
   "execution_count": null,
   "metadata": {},
   "outputs": [],
   "source": [
    "# Create heatmap for time patterns\n",
    "# Prepare data for heatmap\n",
    "time_data = accident_df.groupby(['day_of_week', 'hour']).size().unstack(fill_value=0)\n",
    "\n",
    "plt.figure(figsize=(15, 8))\n",
    "sns.heatmap(time_data, cmap='YlOrRd', annot=False, fmt='d', cbar_kws={'label': 'Number of Accidents'})\n",
    "plt.title('Accident Heatmap: Day of Week vs Hour of Day')\n",
    "plt.xlabel('Hour of Day')\n",
    "plt.ylabel('Day of Week (0=Monday, 6=Sunday)')\n",
    "plt.tight_layout()\n",
    "plt.show()"
   ]
  },
  {
   "cell_type": "markdown",
   "metadata": {},
   "source": [
    "## 6. Road Type and Traffic Violation Analysis"
   ]
  },
  {
   "cell_type": "code",
   "execution_count": null,
   "metadata": {},
   "outputs": [],
   "source": [
    "# Road type analysis\n",
    "fig, (ax1, ax2) = plt.subplots(1, 2, figsize=(15, 6))\n",
    "\n",
    "# Road type distribution\n",
    "road_type_counts = accident_df['road_type'].value_counts()\n",
    "road_type_counts.plot(kind='pie', ax=ax1, autopct='%1.1f%%')\n",
    "ax1.set_title('Accidents by Road Type')\n",
    "ax1.set_ylabel('')\n",
    "\n",
    "# Traffic violations\n",
    "violation_counts = accident_df['traffic_violation'].value_counts().head(8)\n",
    "violation_counts.plot(kind='barh', ax=ax2, color='coral')\n",
    "ax2.set_title('Top Traffic Violations Leading to Accidents')\n",
    "ax2.set_xlabel('Number of Accidents')\n",
    "\n",
    "plt.tight_layout()\n",
    "plt.show()"
   ]
  },
  {
   "cell_type": "markdown",
   "metadata": {},
   "source": [
    "## 7. Correlation Analysis"
   ]
  },
  {
   "cell_type": "code",
   "execution_count": null,
   "metadata": {},
   "outputs": [],
   "source": [
    "# Select numeric columns for correlation\n",
    "numeric_cols = ['temperature', 'humidity', 'rainfall', 'wind_speed', 'visibility', \n",
    "                'hour', 'day_of_week', 'month', 'deaths', 'injuries', 'total_casualties']\n",
    "\n",
    "# Calculate correlation matrix\n",
    "correlation_matrix = accident_df[numeric_cols].corr()\n",
    "\n",
    "# Create correlation heatmap\n",
    "plt.figure(figsize=(12, 10))\n",
    "sns.heatmap(correlation_matrix, annot=True, cmap='coolwarm', center=0, \n",
    "            square=True, fmt='.2f', cbar_kws={'label': 'Correlation Coefficient'})\n",
    "plt.title('Correlation Matrix: Environmental and Accident Factors')\n",
    "plt.tight_layout()\n",
    "plt.show()"
   ]
  },
  {
   "cell_type": "markdown",
   "metadata": {},
   "source": [
    "## 8. Data Export for Tableau"
   ]
  },
  {
   "cell_type": "code",
   "execution_count": null,
   "metadata": {},
   "outputs": [],
   "source": [
    "# Prepare data for Tableau\n",
    "tableau_df = accident_df.copy()\n",
    "\n",
    "# Add additional calculated fields for Tableau\n",
    "tableau_df['Risk_Score'] = (\n",
    "    (tableau_df['severity'] == 'Fatal').astype(int) * 4 +\n",
    "    (tableau_df['severity'] == 'Grievous Injury').astype(int) * 3 +\n",
    "    (tableau_df['severity'] == 'Minor Injury').astype(int) * 2 +\n",
    "    (tableau_df['severity'] == 'Non-Injury').astype(int) * 1\n",
    ")\n",
    "\n",
    "tableau_df['Hour_Range'] = tableau_df['hour'].apply(lambda x: \n",
    "    'Night (0-6)' if x < 6 else\n",
    "    'Morning (6-12)' if x < 12 else\n",
    "    'Afternoon (12-18)' if x < 18 else\n",
    "    'Evening (18-24)'\n",
    ")\n",
    "\n",
    "# Save for Tableau\n",
    "output_file = '../data/processed/tableau_ready_data.csv'\n",
    "tableau_df.to_csv(output_file, index=False)\n",
    "\n",
    "print(f'Data exported for Tableau: {output_file}')\n",
    "print(f'Total records: {len(tableau_df)}')\n",
    "print(f'Columns: {list(tableau_df.columns)}')"
   ]
  },
  {
   "cell_type": "markdown",
   "metadata": {},
   "source": [
    "## 9. Summary and Next Steps"
   ]
  },
  {
   "cell_type": "code",
   "execution_count": null,
   "metadata": {},
   "outputs": [],
   "source": [
    "print('=== ANALYSIS SUMMARY ===')\n",
    "print(f'• Analyzed {len(accident_df):,} accident records')\n",
    "print(f'• Identified key patterns in time, weather, and geography')\n",
    "print(f'• Most accidents occur during evening hours (18-21)')\n",
    "print(f'• Weather conditions significantly impact accident severity')\n",
    "print(f'• Data prepared for Tableau visualization')\n",
    "print()\n",
    "print('Next Steps:')\n",
    "print('1. Train machine learning models')\n",
    "print('2. Create Tableau dashboard')\n",
    "print('3. Implement real-time prediction system')\n",
    "print('4. Deploy TabPy functions for interactive analysis')"
   ]
  }
 ],
 "metadata": {
  "kernelspec": {
   "display_name": "Python 3",
   "language": "python",
   "name": "python3"
  },
  "language_info": {
   "codemirror_mode": {
    "display_name": "ipython",
    "version": 3
   },
   "file_extension": ".py",
   "mimetype": "text/x-python",
   "name": "python",
   "nbconvert_exporter": "python",
   "pygments_lexer": "ipython3",
   "version": "3.8.5"
  }
 },
 "nbformat": 4,
 "nbformat_minor": 4
}